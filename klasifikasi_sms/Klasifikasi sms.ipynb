{
 "cells": [
  {
   "cell_type": "markdown",
   "metadata": {},
   "source": [
    "# Klasifikasi SMS\n",
    "\n",
    "Berikut merupakan proses untuk pengelompokan SMS menjadi 3 kategori yaitu normal, penipuan dan penawaran dengan menggunakan algoritma knn.\n",
    "\n",
    "Ref:\n",
    "+ Dataset: http://nlp.yuliadi.pro/static/dataset_sms_spam_bhs_indonesia.zip\n",
    "+ Data stopword: https://raw.githubusercontent.com/stopwords-iso/stopwords-id/master/stopwords-id.json"
   ]
  },
  {
   "cell_type": "markdown",
   "metadata": {},
   "source": [
    "## Inisialisasi library "
   ]
  },
  {
   "cell_type": "code",
   "execution_count": 1,
   "metadata": {},
   "outputs": [],
   "source": [
    "import string\n",
    "import re\n",
    "import json\n",
    "from collections import Counter\n",
    "\n",
    "# sklearn - machine learning library\n",
    "from sklearn.feature_extraction.text import TfidfVectorizer\n",
    "from sklearn.neighbors import KNeighborsClassifier\n",
    "from sklearn.cluster import KMeans\n",
    "\n",
    "# numpy - scientific computing library\n",
    "import numpy as np\n",
    "\n",
    "# pandas - python data analysis library\n",
    "import pandas as pd\n",
    "\n",
    "# sastrawi - stemming library (bahasa indonesia)\n",
    "# !pip install Sastrawi\n",
    "from Sastrawi.Stemmer.StemmerFactory import StemmerFactory\n",
    "\n",
    "# tqdm - progress bar library\n",
    "from tqdm import tqdm"
   ]
  },
  {
   "cell_type": "markdown",
   "metadata": {},
   "source": [
    "## Preprocessing\n",
    "Membersihkan dokumen dengan cara:\n",
    "1. Menghilangkan kata yang tidak penting\n",
    "2. Menghilangkan tanda baca\n",
    "3. Mengubah kata ke bentuk dasar\n",
    "4. Menghilangkan angka"
   ]
  },
  {
   "cell_type": "code",
   "execution_count": 2,
   "metadata": {
    "scrolled": true
   },
   "outputs": [],
   "source": [
    "# import file yang berisi kata-kata tidak penting\n",
    "data_stopword = json.load(open('stopwords-id.json','r'))\n",
    "\n",
    "# menjadikan array stopword menjadi unordered collection (set())\n",
    "# agar dapat dilakukan operasi matematis seperti union, intersection, symmetric difference\n",
    "stopword = set(data_stopword)\n",
    "punctuation = set(string.punctuation)\n",
    "\n",
    "# method untuk cleaning dokumen\n",
    "def clean(doc):\n",
    "    # menghilangkan kata tidak penting\n",
    "    stop_free = \" \".join([i for i in doc.lower().split() if i not in stopword])\n",
    "    # menghilangkan tanda baca\n",
    "    punc_free = ''.join(ch for ch in stop_free if ch not in punctuation)\n",
    "    # menjadikan ke kata dasar\n",
    "    stemmer = StemmerFactory().create_stemmer()\n",
    "    normalized = stemmer.stem(punc_free)\n",
    "    # menghilangkan angka\n",
    "    processed = re.sub(r\"\\d+\",\"\",normalized)\n",
    "    # membuat satu dokumen menjadi array berisi tiap kata\n",
    "    y = processed.split()\n",
    "    return y\n",
    "\n",
    "# method untuk cleaning dokumen berupa array\n",
    "def clean_with_loop(arr):\n",
    "    hasil = []\n",
    "    progress = tqdm(arr)\n",
    "    for item in progress:\n",
    "        progress.set_description(\"Membersihkan dokumen\")\n",
    "        cleaned = clean(item)\n",
    "        cleaned = ' '.join(cleaned)\n",
    "        hasil.append(cleaned)\n",
    "    return hasil"
   ]
  },
  {
   "cell_type": "code",
   "execution_count": 3,
   "metadata": {},
   "outputs": [
    {
     "name": "stdout",
     "output_type": "stream",
     "text": [
      "                                                Teks  label\n",
      "0  [PROMO] Beli paket Flash mulai 1GB di MY TELKO...      2\n",
      "1  2.5 GB/30 hari hanya Rp 35 Ribu Spesial buat A...      2\n",
      "2  2016-07-08 11:47:11.Plg Yth, sisa kuota Flash ...      2\n",
      "3  2016-08-07 11:29:47.Plg Yth, sisa kuota Flash ...      2\n",
      "4  4.5GB/30 hari hanya Rp 55 Ribu Spesial buat an...      2\n",
      "Jumlah sms:  1143\n",
      "Jumlah label:  1143\n"
     ]
    },
    {
     "name": "stderr",
     "output_type": "stream",
     "text": [
      "Membersihkan dokumen: 100%|████████████████████████████████████████████████████████| 1143/1143 [13:50<00:00,  1.38it/s]\n"
     ]
    }
   ],
   "source": [
    "# import dataset sms\n",
    "sms_csv = pd.read_csv('dataset_sms.csv')\n",
    "print(sms_csv.head())\n",
    "\n",
    "# mengambil hanya kolom Teks sms dan disimpan di variabel sms (yang siap dibersihkan)\n",
    "sms = []\n",
    "for index, row in sms_csv.iterrows():\n",
    "    sms.append(row[\"Teks\"])\n",
    "print(\"Jumlah sms: \", len(sms))\n",
    "\n",
    "# mengambil hanya kolom label dalam variabel y_train\n",
    "y_train = []\n",
    "for index, row in sms_csv.iterrows():\n",
    "    y_train.append(row[\"label\"])\n",
    "print(\"Jumlah label: \", len(y_train))\n",
    "\n",
    "# membersihkan dokumen sms\n",
    "sms_bersih = clean_with_loop(sms)"
   ]
  },
  {
   "cell_type": "markdown",
   "metadata": {},
   "source": [
    "## Membentuk TF-IDF"
   ]
  },
  {
   "cell_type": "code",
   "execution_count": 5,
   "metadata": {},
   "outputs": [
    {
     "name": "stdout",
     "output_type": "stream",
     "text": [
      "  (0, 2570)\t0.1571563637669152\n",
      "  (0, 320)\t0.16914171127327512\n",
      "  (0, 2345)\t0.1514594440986127\n",
      "  (0, 935)\t0.19437564283726394\n",
      "  (0, 1020)\t0.34162689085952747\n",
      "  (0, 2101)\t0.2441892209184943\n",
      "  (0, 3176)\t0.20094196297969538\n",
      "  (0, 164)\t0.22758469489141753\n",
      "  (0, 808)\t0.20276234267155271\n",
      "  (0, 905)\t0.4622959348047592\n",
      "  (0, 1734)\t0.17081344542976373\n",
      "  (0, 1848)\t0.23936579359516763\n",
      "  (0, 2134)\t0.19592117720194824\n",
      "  (0, 2044)\t0.2634367155575385\n",
      "  (0, 495)\t0.20466742104930438\n",
      "  (0, 541)\t0.14242782069893686\n",
      "  (0, 3335)\t0.2441892209184943\n",
      "  (0, 2977)\t0.2158035961876674\n",
      "  (1, 2570)\t0.20679145834585344\n",
      "  (1, 1020)\t0.2247618908890593\n",
      "  (1, 2977)\t0.2839613955316152\n",
      "  (1, 2750)\t0.19723568879065276\n",
      "  (1, 2729)\t0.26680128970697864\n",
      "  (1, 3046)\t0.2911568296070759\n",
      "  (1, 2436)\t0.24026384399786369\n",
      "  :\t:\n",
      "  (1138, 2297)\t0.3695178514143089\n",
      "  (1138, 1101)\t0.41560616621330004\n",
      "  (1138, 1578)\t0.46169448101229127\n",
      "  (1138, 3707)\t0.4886544168911331\n",
      "  (1138, 3397)\t0.4886544168911331\n",
      "  (1139, 968)\t0.23045532866437865\n",
      "  (1139, 2255)\t0.39297861081495167\n",
      "  (1139, 12)\t0.3450256191107158\n",
      "  (1139, 3479)\t0.39297861081495167\n",
      "  (1139, 1605)\t0.41592598962289845\n",
      "  (1139, 1626)\t0.41592598962289845\n",
      "  (1139, 1455)\t0.41592598962289845\n",
      "  (1140, 1627)\t0.45993246207995603\n",
      "  (1140, 3679)\t0.42675723869098475\n",
      "  (1140, 1941)\t0.7786786176272698\n",
      "  (1141, 2111)\t0.1960798272210164\n",
      "  (1141, 309)\t0.4003233487563473\n",
      "  (1141, 501)\t0.4003233487563473\n",
      "  (1141, 2338)\t0.4003233487563473\n",
      "  (1141, 528)\t0.4003233487563473\n",
      "  (1141, 209)\t0.4003233487563473\n",
      "  (1141, 3290)\t0.4003233487563473\n",
      "  (1142, 2111)\t0.48634532414024567\n",
      "  (1142, 2209)\t0.48013229272718966\n",
      "  (1142, 445)\t0.7300282235417008\n"
     ]
    }
   ],
   "source": [
    "# pembentukan vektor tf-idf untuk pembobotan kata\n",
    "vectorizer = TfidfVectorizer(stop_words=data_stopword)\n",
    "x_train = vectorizer.fit_transform(sms_bersih)\n",
    "print(x_train)"
   ]
  },
  {
   "cell_type": "markdown",
   "metadata": {},
   "source": [
    "Kalau error `IOPub data rate exceeded`\n",
    "1. Buka **Anaconda Prompt**\n",
    "2. Jalankan perintah `jupyter notebook --generate-config` untuk generate file config\n",
    "3. Buka file config yang lokasinya ditampilkan setelah step 2 dieksekusi\n",
    "4. Cari `c.NotebookApp.iopub_data_rate_limit`\n",
    "5. Hapus `#` di depan dan ubah nilainya `10000000` (tambah 0 satu kali)"
   ]
  },
  {
   "cell_type": "code",
   "execution_count": 6,
   "metadata": {},
   "outputs": [
    {
     "data": {
      "text/plain": [
       "KNeighborsClassifier(algorithm='auto', leaf_size=30, metric='minkowski',\n",
       "           metric_params=None, n_jobs=1, n_neighbors=5, p=2,\n",
       "           weights='distance')"
      ]
     },
     "execution_count": 6,
     "metadata": {},
     "output_type": "execute_result"
    }
   ],
   "source": [
    "# pengelompokan dokumen dengan knn (k=5)\n",
    "# penghitungan jarak dengan euclidean distance\n",
    "# dokumentasi: https://scikit-learn.org/stable/modules/generated/sklearn.neighbors.KNeighborsClassifier.html#sklearn.neighbors.KNeighborsClassifier\n",
    "modelknn = KNeighborsClassifier(n_neighbors=5, weights='distance')\n",
    "modelknn.fit(x_train,y_train)"
   ]
  },
  {
   "cell_type": "markdown",
   "metadata": {},
   "source": [
    "## Pengujian"
   ]
  },
  {
   "cell_type": "code",
   "execution_count": 7,
   "metadata": {
    "scrolled": true
   },
   "outputs": [
    {
     "name": "stderr",
     "output_type": "stream",
     "text": [
      "Membersihkan dokumen: 100%|██████████████████████████████████████████████████████████████| 3/3 [00:01<00:00,  1.81it/s]\n"
     ]
    },
    {
     "name": "stdout",
     "output_type": "stream",
     "text": [
      "info resmi ptshopee selamat noanda raih hadiah ke rpjt dgn kode pin bh :\n",
      "- kelompok: penipuan\n",
      "\n",
      "besok baru mana bro :\n",
      "- kelompok: normal\n",
      "\n",
      "cari tiket pesawat gampang hemat ya pakai airy app tinggal tekan langsung sampai kode mudah spesial :\n",
      "- kelompok: penawaran\n",
      "\n"
     ]
    }
   ],
   "source": [
    "kalimat_tes = [\"INFO RESMI PT-SHOPEE 2018 Selamat No.Anda meraih hadiah ke-2 Rp.175jt dgn kode PIN b8337h9\",\n",
    "               \"Besok tahun baruan dimana bro?\",\n",
    "               \"Cari tiket pesawat paling gampang dan hemat, ya pakai Airy App. Tinggal tekan, langsung sampai! Ada kode Mudah50 spesial buat kamu\"]\n",
    "\n",
    "# membersihkan dokumen pengujian\n",
    "kalimat_tes_bersih = clean_with_loop(kalimat_tes)\n",
    "\n",
    "# definisikan nama label\n",
    "nama_label = [\"normal\", \"penipuan\", \"penawaran\"]\n",
    "\n",
    "# loop untuk prediksi kelompok\n",
    "for teks in kalimat_tes_bersih:\n",
    "    arr_teks = []\n",
    "    arr_teks.append(teks)\n",
    "    vektor = vectorizer.transform(arr_teks)\n",
    "    prediksi_label_knn = modelknn.predict(vektor)\n",
    "    print(teks, \":\\n\" + \"- kelompok: \" + nama_label[np.int(prediksi_label_knn)]+ \"\\n\")"
   ]
  },
  {
   "cell_type": "code",
   "execution_count": null,
   "metadata": {},
   "outputs": [],
   "source": []
  }
 ],
 "metadata": {
  "kernelspec": {
   "display_name": "Python 3",
   "language": "python",
   "name": "python3"
  },
  "language_info": {
   "codemirror_mode": {
    "name": "ipython",
    "version": 3
   },
   "file_extension": ".py",
   "mimetype": "text/x-python",
   "name": "python",
   "nbconvert_exporter": "python",
   "pygments_lexer": "ipython3",
   "version": "3.7.0"
  }
 },
 "nbformat": 4,
 "nbformat_minor": 2
}
